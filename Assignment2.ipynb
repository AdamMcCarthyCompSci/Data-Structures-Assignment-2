{
 "metadata": {
  "language_info": {
   "codemirror_mode": {
    "name": "ipython",
    "version": 3
   },
   "file_extension": ".py",
   "mimetype": "text/x-python",
   "name": "python",
   "nbconvert_exporter": "python",
   "pygments_lexer": "ipython3",
   "version": "3.6.12"
  },
  "orig_nbformat": 2,
  "kernelspec": {
   "name": "python3612jvsc74a57bd04d270be814a3ea8841c9754346be33c28a79f41fe55be8237709efdf1f8fa8c1",
   "display_name": "Python 3.6.12 64-bit ('DSA': conda)"
  }
 },
 "nbformat": 4,
 "nbformat_minor": 2,
 "cells": [
  {
   "source": [
    "# Data Structures and Algorithms Assignment 2\n",
    "\n",
    "In this assignment I will be covering linked lists, stacks, and queues.\n",
    "I will discuss each of their functions, advantages, disadvantages, and applications.\n",
    "I will also be implementing classes and instantiations of these ADTs and I will be subsequently testing them."
   ],
   "cell_type": "markdown",
   "metadata": {}
  },
  {
   "source": [
    "# Part 1"
   ],
   "cell_type": "markdown",
   "metadata": {}
  },
  {
   "source": [
    "### Import necessary modules"
   ],
   "cell_type": "markdown",
   "metadata": {}
  },
  {
   "cell_type": "code",
   "execution_count": 351,
   "metadata": {},
   "outputs": [],
   "source": [
    "# Shows all outputs in Jupyter Notebook like a terminal\n",
    "from IPython.core.interactiveshell import InteractiveShell\n",
    "InteractiveShell.ast_node_interactivity = \"all\"\n",
    "\n",
    "# Use Display() to show all outputs in Jupyter Notebooks (even \"None\" outputs for the second part of parts 1 and 2)\n",
    "from IPython.display import display\n",
    "\n",
    "# Used for testing ADTs\n",
    "import unittest"
   ]
  },
  {
   "source": [
    "### Node\n",
    "\n",
    "This class and constructor will be used for all three parts of this assignment. The node can be defined as a single element in linked lists, stacks, and queues.\n",
    "It contains a value, which is the data that the element holds. This value can be an object or primitive data type. For example, a string, integer, instance of a class, etc. \n",
    "It also contains a next attribute which defines which node to jump to after the current one. If there are no more elements to jump to, this is defined as \"None\".\n",
    "There is a default value of None if the user does not provide a parameter."
   ],
   "cell_type": "markdown",
   "metadata": {}
  },
  {
   "cell_type": "code",
   "execution_count": 352,
   "metadata": {},
   "outputs": [],
   "source": [
    "class Node:\n",
    "    # Node constructor\n",
    "    def __init__(self, value = None):\n",
    "        self.value = value\n",
    "        self.next = None    "
   ]
  },
  {
   "source": [
    "## (i)"
   ],
   "cell_type": "markdown",
   "metadata": {}
  },
  {
   "source": [
    "### Implementing a Linked List\n",
    "\n",
    "Linked lists and arrays are the underlying implementations to turn ADTs into data structures.\n",
    "Linked lists have a number of distinct use cases due to their speed of search vs their speed of editing, therefore they must be used appropriately.\n",
    "A simple definition of linked lists are that they are a set of elements bearing nodes that are threaded together (a node class has been defined above).\n",
    "\n",
    "Advantages:\n",
    "- No predetermined size.\n",
    "- Space usage proportional to size.\n",
    "- Some manipulations more efficient than arrays.\n",
    "\n",
    "Disadvantages:\n",
    "- Size. 4/8 bytes for each 32/64 bit address pointer.\n",
    "- No direct access via index to individual elements in the list.\n",
    "\n",
    "Applications:\n",
    "- File systems of most operating systems (For example, \"C:NAME:FOLDER:FILE\").\n",
    "- Whenever an application needs to handle unknown/changing elements.\n",
    "\n",
    "Note on absence of \"remove_last()\":\n",
    "- This has not been implemented below since it is often messy and expensive.\n",
    "- It is not commonly impemented as a result of this.\n",
    "\n",
    "\n"
   ],
   "cell_type": "markdown",
   "metadata": {}
  },
  {
   "cell_type": "code",
   "execution_count": 353,
   "metadata": {},
   "outputs": [],
   "source": [
    "class myLinkedList:\n",
    "\n",
    "    # Linked list constructor\n",
    "    def __init__(self):\n",
    "        self.head = None\n",
    "        self.tail = None\n",
    "        self.length = 0\n",
    "\n",
    "    # Adds element to beginning of linked list\n",
    "    def add_first(self, value = None):\n",
    "        newHead = Node(value)\n",
    "        if self.head == None:\n",
    "            self.tail = newHead\n",
    "        newHead.next = self.head\n",
    "        self.head = newHead\n",
    "        self.length += 1\n",
    "\n",
    "    # Adds element to end of linked list\n",
    "    def add_last(self, value = None):\n",
    "        newTail = Node(value)\n",
    "        if self.head == None:\n",
    "            self.head = newTail\n",
    "            self.tail = newTail\n",
    "            return\n",
    "        self.tail.next = newTail\n",
    "        self.tail = newTail\n",
    "        self.length += 1\n",
    "\n",
    "    # Removes element from beginning of linked list\n",
    "    def remove_first(self):\n",
    "        if self.head == None:\n",
    "            print(\"Error: List is empty\")\n",
    "            return\n",
    "        newHead = self.head.next\n",
    "        self.head.next = None\n",
    "        self.head = newHead\n",
    "        self.length -= 1\n",
    "        if self.head == None:\n",
    "            self.tail == None\n",
    "    \n",
    "        # Prints each element in linked list\n",
    "    def list_traversal(self):\n",
    "        current = self.head\n",
    "        while current != None:\n",
    "            print(current.value)\n",
    "            current = current.next\n",
    "    \n",
    "    def is_empty(self):\n",
    "        return self.length == 0\n",
    "    \n",
    "    def size(self):\n",
    "        return self.length\n"
   ]
  },
  {
   "source": [
    "### Linked List Unit Testing"
   ],
   "cell_type": "markdown",
   "metadata": {}
  },
  {
   "cell_type": "code",
   "execution_count": 354,
   "metadata": {},
   "outputs": [
    {
     "output_type": "stream",
     "name": "stderr",
     "text": [
      "test_add_LL (__main__.TestLinkedList) ... ok\n",
      "test_empty_LL (__main__.TestLinkedList) ... ok\n",
      "test_remove_LL (__main__.TestLinkedList) ... ok\n",
      "test_dequeue_Q (__main__.TestQueue) ... ok\n",
      "test_empty_Q (__main__.TestQueue) ... ok\n",
      "test_enqueue_Q (__main__.TestQueue) ... ok\n",
      "test_empty_S (__main__.TestStack) ... ok\n",
      "test_pop_S (__main__.TestStack) ... ok\n",
      "test_push_S (__main__.TestStack) ... ok\n",
      "\n",
      "----------------------------------------------------------------------\n",
      "Ran 9 tests in 0.006s\n",
      "\n",
      "OK\n"
     ]
    },
    {
     "output_type": "execute_result",
     "data": {
      "text/plain": [
       "<unittest.main.TestProgram at 0x2dd12280668>"
      ]
     },
     "metadata": {},
     "execution_count": 354
    }
   ],
   "source": [
    "class TestLinkedList(unittest.TestCase):\n",
    "    # Testing pushing elements to the stack\n",
    "    def test_add_LL(self):\n",
    "        LL = myLinkedList()\n",
    "        LL.add_first(1)\n",
    "        LL.add_first(2)\n",
    "        LL.add_last(3)\n",
    "        self.assertEqual(LL.size(), 3)\n",
    "    \n",
    "    # Testing popping elements from the stack\n",
    "    def test_remove_LL(self):\n",
    "        LL = myLinkedList()\n",
    "        LL.add_first(1)\n",
    "        LL.add_first(2)\n",
    "        LL.add_last(3)\n",
    "        LL.remove_first()\n",
    "        LL.remove_first()\n",
    "        self.assertEqual(LL.size(), 1)\n",
    "    \n",
    "    # Testing if stack can be emptied\n",
    "    def test_empty_LL(self):\n",
    "        LL = myLinkedList()\n",
    "        LL.add_first(1)\n",
    "        LL.remove_first()\n",
    "        self.assertTrue(LL.is_empty())\n",
    "\n",
    "unittest.main(argv=[''], verbosity=2, exit=False)"
   ]
  },
  {
   "source": [
    "### Linked List Testing"
   ],
   "cell_type": "markdown",
   "metadata": {}
  },
  {
   "cell_type": "code",
   "execution_count": 355,
   "metadata": {},
   "outputs": [
    {
     "output_type": "stream",
     "name": "stdout",
     "text": [
      "add_first(3):\n3\nadd_first(2):\n2\n3\nadd_first(1):\n1\n2\n3\nadd_last(4):\n1\n2\n3\n4\nremove_first():\n2\n3\n4\nsize():\n"
     ]
    },
    {
     "output_type": "execute_result",
     "data": {
      "text/plain": [
       "3"
      ]
     },
     "metadata": {},
     "execution_count": 355
    },
    {
     "output_type": "stream",
     "name": "stdout",
     "text": [
      "is_empty():\n"
     ]
    },
    {
     "output_type": "execute_result",
     "data": {
      "text/plain": [
       "False"
      ]
     },
     "metadata": {},
     "execution_count": 355
    }
   ],
   "source": [
    "# Instantiate a linked list\n",
    "linkedList = myLinkedList()\n",
    "\n",
    "print(\"add_first(3):\")\n",
    "# Add element \"3\" to beginning\n",
    "linkedList.add_first(3)\n",
    "linkedList.list_traversal()\n",
    "\n",
    "print(\"add_first(2):\")\n",
    "# Add element \"2\" before \"3\"\n",
    "linkedList.add_first(2)\n",
    "linkedList.list_traversal()\n",
    "\n",
    "print(\"add_first(1):\")\n",
    "# Add element \"1\" before both \"2\" and \"3\" \n",
    "linkedList.add_first(1)\n",
    "linkedList.list_traversal()\n",
    "\n",
    "print(\"add_last(4):\")\n",
    "# Add element \"4\" after elements \"1\", \"2\", and \"3\"\n",
    "linkedList.add_last(4)\n",
    "linkedList.list_traversal()\n",
    "\n",
    "print(\"remove_first():\")\n",
    "# Remove the first element - i.e. \"1\"\n",
    "linkedList.remove_first()\n",
    "linkedList.list_traversal()\n",
    "\n",
    "print(\"size():\")\n",
    "# Get the size (length) of the linked list\n",
    "linkedList.size()\n",
    "\n",
    "print(\"is_empty():\")\n",
    "# Check if list is empty (True = empty, False = not empty)\n",
    "linkedList.is_empty()"
   ]
  },
  {
   "cell_type": "code",
   "execution_count": null,
   "metadata": {},
   "outputs": [],
   "source": []
  },
  {
   "source": [
    "## (ii)"
   ],
   "cell_type": "markdown",
   "metadata": {}
  },
  {
   "source": [
    "# Queue ADT\n",
    "A queue's insertion and removal routines follow the first-in-first-out (FIFO) principle.\n",
    "Elements may be inserted at any time, but only the element which has been in the queue the longest may be removed.\n",
    "\n",
    "There are two fundamental methods when it comes to a queue ADT:\n",
    "- ### enqueue(o): Elements are inserted at the rear.\n",
    "- ### dequeue(): Elements are removed from the front (dequeued) and returned (error if empty).\n",
    "\n",
    "There are also additional support methods:\n",
    "- ### size(): Return the number of elements in the queue.\n",
    "- ### is_empty(): Return boolean that indicates whether queue is empty.\n",
    "- ### front(): Returns, but doesn't remove the front element in the queue (error if empty).\n",
    "\n",
    "Queues need two pointers:\n",
    "- ### front\n",
    "- ### Rear\n",
    "\n",
    "It is often implemented in the form of a linked list, as there is no need to access elements in the middle of the queue.\n",
    "However, it can also be implemented via an array.\n",
    "\n",
    "Real world examples of a queue include:\n",
    "- Waiting lists.\n",
    "\n",
    "Those who have been on the waiting list the longest, i.e. the top of the queue, are next to leave the queue (dequeue). Those who join at the back of the queue (enqueue) must wait until everyone in front of them has been dequeued first.\n",
    "\n",
    "- Access to shared resources, for example a printer's queue.\n",
    "\n",
    "Printers print in the order they are sent documents. Therefore, if you send a document (enqueue) after somebody else, their document will be printed first (dequeue) via FIFO.\n",
    "\n",
    "\n",
    "Applications in computer science (take a circular queue, for instance):\n",
    "- Computer-controlled traffic signal system.\n",
    "- Memory management and CPU scheduling.\n",
    "\n",
    "Indirect applications in computer science include:\n",
    "- Auxiliary (helper) data structure for algorithms.\n",
    "- Component of other data structures, for example to enforce ordered processing.\n",
    "\n",
    "# Stack ADT\n",
    "Stacks are like queues but they are single ended.\n",
    "In summary, the stack is where data elements are piled on each other. Only the top element is accessible and new elements are always put on the top of the stack.\n",
    "While a queue follows the principle of first-in-first-out (FIFO), a stack's objects are inserted/removed according to the last-in-first-out (LIFO) principle.\n",
    "While elements can be inserted at any time, only the last (most recently-inserted) object can be removed.\n",
    "\n",
    "The stack supports two fundamental methods:\n",
    "- ### push(o): Inserts an element onto the top of the stack.\n",
    "- ### pop(): Removes the top element from the stack and returns it (error if empty).\n",
    "\n",
    "There are also a number of support methods:\n",
    "- ### size(): Returns the number of elements in the stack.\n",
    "- ### is_empty(): Returns a boolean indicating if the stack if empty.\n",
    "- ### top()/peek(): Returns the top element in the stack. It does not remove the element from the stack (error if empty).\n",
    "\n",
    "The two ways to implement a stack are via an array or a linked list.\n",
    "\n",
    "Real world examples of a stack include:\n",
    "- A stack of pancakes.\n",
    "- A stack of playing cards.\n",
    "\n",
    "Both examples are relatively self-explanatory - just as these items were placed on top of one another, the top items must be taken/moved first before accessing the rest.\n",
    "\n",
    "Applications in computer science include:\n",
    "- The \"undo\" mechanism in text editors.\n",
    "\n",
    "When called, the undo button returns the most recent action that was applied to the stack. This is similar to pop(), whereas redo would be similar to push().\n",
    "\n",
    "- Depth-first search in graph algorithms.\n",
    "\n",
    "For example in a tree, depth-search first means searching the entire depth of a branch before moving onto the next branch.\n",
    "\n",
    "- Recursive algorithms.\n",
    "\n",
    "Recursive calls have to be pushed to the stack and then popped out in the reverse order they entered (LIFO).\n",
    "\n",
    "- Expression evaluation (infix v postfix)\n",
    "\n",
    "Infix expression example: A op B (an operator rests between a pair of operands).\n",
    "Postfix expression example: A B op (an operator follows a pair of operands).\n",
    "For infix expressions, the compiler scans the expression from one side to the other, whcih is very inefficient.\n",
    "Therefore, it is better to convert an expression to postfix for evaluation.\n",
    "\n",
    "\n",
    "\n",
    "*Note: The information above was obtained from lecture slides and associated notes.*"
   ],
   "cell_type": "markdown",
   "metadata": {}
  },
  {
   "cell_type": "code",
   "execution_count": null,
   "metadata": {},
   "outputs": [],
   "source": []
  },
  {
   "source": [
    "# Part 2"
   ],
   "cell_type": "markdown",
   "metadata": {}
  },
  {
   "source": [
    "## (i)"
   ],
   "cell_type": "markdown",
   "metadata": {}
  },
  {
   "source": [
    "Quick note: I have chosen to implement the stack and queue ADTs with linked lists instead of arrays, since I believe the assignment flows better from part 1 if I continued using linked lists. It also tested my knowledge, since I am already more familiar with arrays. Moreover, inserting/removing elements with linked lists is faster, which makes their use more appropriate."
   ],
   "cell_type": "markdown",
   "metadata": {}
  },
  {
   "source": [
    "### Implementing a Stack ADT"
   ],
   "cell_type": "markdown",
   "metadata": {}
  },
  {
   "cell_type": "code",
   "execution_count": 356,
   "metadata": {},
   "outputs": [],
   "source": [
    "class myStack:\n",
    "    # Stack constructor\n",
    "    def __init__(self):\n",
    "        self.head = None\n",
    "        self.length = 0\n",
    "\n",
    "    # Puts element on top of stack\n",
    "    def push(self, value = None):\n",
    "        topElement = Node(value)\n",
    "        topElement.next = self.head\n",
    "        self.head = topElement\n",
    "        self.length += 1\n",
    "\n",
    "    # Takes element off top of stack and returns it\n",
    "    def pop(self):\n",
    "        if self.head == None:\n",
    "            print(\"Error: Stack is empty\")\n",
    "            return\n",
    "        topElement = self.head\n",
    "        self.head = self.head.next\n",
    "        self.length -= 1\n",
    "        return topElement.value\n",
    "    \n",
    "    # Returns size (i.e. length) of stack\n",
    "    def size(self):\n",
    "        return self.length\n",
    "\n",
    "    # Checks of stack is empty, returns boolean\n",
    "    def is_empty(self):\n",
    "        return self.length == 0\n",
    "\n",
    "    # Also known as 'peek' - returns top element on stack but doesn't remove it from stack\n",
    "    def top(self):\n",
    "        if self.head == None:\n",
    "            print(\"Error: Stack is empty\")\n",
    "            return\n",
    "        return self.head.value"
   ]
  },
  {
   "source": [
    "### Testing the stack with unit tests"
   ],
   "cell_type": "markdown",
   "metadata": {}
  },
  {
   "cell_type": "code",
   "execution_count": 357,
   "metadata": {},
   "outputs": [
    {
     "output_type": "stream",
     "name": "stderr",
     "text": [
      "test_add_LL (__main__.TestLinkedList) ... ok\n",
      "test_empty_LL (__main__.TestLinkedList) ... ok\n",
      "test_remove_LL (__main__.TestLinkedList) ... ok\n",
      "test_dequeue_Q (__main__.TestQueue) ... ok\n",
      "test_empty_Q (__main__.TestQueue) ... ok\n",
      "test_enqueue_Q (__main__.TestQueue) ... ok\n",
      "test_empty_S (__main__.TestStack) ... ok\n",
      "test_pop_S (__main__.TestStack) ... ok\n",
      "test_push_S (__main__.TestStack) ... ok\n",
      "\n",
      "----------------------------------------------------------------------\n",
      "Ran 9 tests in 0.015s\n",
      "\n",
      "OK\n"
     ]
    },
    {
     "output_type": "execute_result",
     "data": {
      "text/plain": [
       "<unittest.main.TestProgram at 0x2dd12280ac8>"
      ]
     },
     "metadata": {},
     "execution_count": 357
    }
   ],
   "source": [
    "class TestStack(unittest.TestCase):\n",
    "    # Testing pushing elements to the stack\n",
    "    def test_push_S(self):\n",
    "        S = myStack()\n",
    "        S.push(1)\n",
    "        S.push(2)\n",
    "        S.push(3)\n",
    "        self.assertEqual(S.size(), 3)\n",
    "    \n",
    "    # Testing popping elements from the stack\n",
    "    def test_pop_S(self):\n",
    "        S = myStack()\n",
    "        S.push(1)\n",
    "        S.push(2)\n",
    "        S.push(3)\n",
    "        S.pop()\n",
    "        S.pop()\n",
    "        self.assertEqual(S.size(), 1)\n",
    "    \n",
    "    # Testing if stack can be emptied\n",
    "    def test_empty_S(self):\n",
    "        S = myStack()\n",
    "        S.push(1)\n",
    "        S.pop()\n",
    "        self.assertTrue(S.is_empty())\n",
    "\n",
    "unittest.main(argv=[''], verbosity=2, exit=False)"
   ]
  },
  {
   "source": [
    "## (ii)"
   ],
   "cell_type": "markdown",
   "metadata": {}
  },
  {
   "cell_type": "code",
   "execution_count": 358,
   "metadata": {},
   "outputs": [
    {
     "output_type": "display_data",
     "data": {
      "text/plain": "None"
     },
     "metadata": {}
    },
    {
     "output_type": "display_data",
     "data": {
      "text/plain": "None"
     },
     "metadata": {}
    },
    {
     "output_type": "display_data",
     "data": {
      "text/plain": "3"
     },
     "metadata": {}
    },
    {
     "output_type": "display_data",
     "data": {
      "text/plain": "None"
     },
     "metadata": {}
    },
    {
     "output_type": "display_data",
     "data": {
      "text/plain": "None"
     },
     "metadata": {}
    },
    {
     "output_type": "display_data",
     "data": {
      "text/plain": "8"
     },
     "metadata": {}
    },
    {
     "output_type": "display_data",
     "data": {
      "text/plain": "2"
     },
     "metadata": {}
    },
    {
     "output_type": "display_data",
     "data": {
      "text/plain": "None"
     },
     "metadata": {}
    },
    {
     "output_type": "display_data",
     "data": {
      "text/plain": "None"
     },
     "metadata": {}
    },
    {
     "output_type": "display_data",
     "data": {
      "text/plain": "1"
     },
     "metadata": {}
    },
    {
     "output_type": "display_data",
     "data": {
      "text/plain": "None"
     },
     "metadata": {}
    },
    {
     "output_type": "display_data",
     "data": {
      "text/plain": "None"
     },
     "metadata": {}
    },
    {
     "output_type": "display_data",
     "data": {
      "text/plain": "6"
     },
     "metadata": {}
    },
    {
     "output_type": "display_data",
     "data": {
      "text/plain": "7"
     },
     "metadata": {}
    },
    {
     "output_type": "display_data",
     "data": {
      "text/plain": "None"
     },
     "metadata": {}
    },
    {
     "output_type": "display_data",
     "data": {
      "text/plain": "4"
     },
     "metadata": {}
    },
    {
     "output_type": "display_data",
     "data": {
      "text/plain": "9"
     },
     "metadata": {}
    }
   ],
   "source": [
    "S = myStack()\n",
    "display(\n",
    "S.push(5),\n",
    "S.push(3),\n",
    "S.pop(),\n",
    "S.push(2),\n",
    "S.push(8),\n",
    "S.pop(),\n",
    "S.pop(),\n",
    "S.push(9),\n",
    "S.push(1),\n",
    "S.pop(),\n",
    "S.push(7),\n",
    "S.push(6),\n",
    "S.pop(),\n",
    "S.pop(),\n",
    "S.push(4),\n",
    "S.pop(),\n",
    "S.pop()\n",
    ")"
   ]
  },
  {
   "source": [
    "## (iii)"
   ],
   "cell_type": "markdown",
   "metadata": {}
  },
  {
   "source": [
    "Note: I feel like the working of this question and the equivalent question in Part 3 are a little ambiguous. I interpreted them to mean the following:"
   ],
   "cell_type": "markdown",
   "metadata": {}
  },
  {
   "cell_type": "code",
   "execution_count": 359,
   "metadata": {},
   "outputs": [
    {
     "output_type": "stream",
     "name": "stdout",
     "text": [
      "Error: Stack is empty\nError: Stack is empty\nError: Stack is empty\n"
     ]
    },
    {
     "output_type": "execute_result",
     "data": {
      "text/plain": [
       "34"
      ]
     },
     "metadata": {},
     "execution_count": 359
    },
    {
     "output_type": "execute_result",
     "data": {
      "text/plain": [
       "34"
      ]
     },
     "metadata": {},
     "execution_count": 359
    },
    {
     "output_type": "execute_result",
     "data": {
      "text/plain": [
       "34"
      ]
     },
     "metadata": {},
     "execution_count": 359
    },
    {
     "output_type": "execute_result",
     "data": {
      "text/plain": [
       "34"
      ]
     },
     "metadata": {},
     "execution_count": 359
    },
    {
     "output_type": "execute_result",
     "data": {
      "text/plain": [
       "34"
      ]
     },
     "metadata": {},
     "execution_count": 359
    },
    {
     "output_type": "execute_result",
     "data": {
      "text/plain": [
       "34"
      ]
     },
     "metadata": {},
     "execution_count": 359
    },
    {
     "output_type": "execute_result",
     "data": {
      "text/plain": [
       "34"
      ]
     },
     "metadata": {},
     "execution_count": 359
    },
    {
     "output_type": "execute_result",
     "data": {
      "text/plain": [
       "34"
      ]
     },
     "metadata": {},
     "execution_count": 359
    },
    {
     "output_type": "execute_result",
     "data": {
      "text/plain": [
       "34"
      ]
     },
     "metadata": {},
     "execution_count": 359
    },
    {
     "output_type": "execute_result",
     "data": {
      "text/plain": [
       "34"
      ]
     },
     "metadata": {},
     "execution_count": 359
    },
    {
     "output_type": "execute_result",
     "data": {
      "text/plain": [
       "34"
      ]
     },
     "metadata": {},
     "execution_count": 359
    },
    {
     "output_type": "execute_result",
     "data": {
      "text/plain": [
       "34"
      ]
     },
     "metadata": {},
     "execution_count": 359
    },
    {
     "output_type": "execute_result",
     "data": {
      "text/plain": [
       "34"
      ]
     },
     "metadata": {},
     "execution_count": 359
    },
    {
     "output_type": "execute_result",
     "data": {
      "text/plain": [
       "34"
      ]
     },
     "metadata": {},
     "execution_count": 359
    },
    {
     "output_type": "execute_result",
     "data": {
      "text/plain": [
       "34"
      ]
     },
     "metadata": {},
     "execution_count": 359
    },
    {
     "output_type": "execute_result",
     "data": {
      "text/plain": [
       "34"
      ]
     },
     "metadata": {},
     "execution_count": 359
    },
    {
     "output_type": "execute_result",
     "data": {
      "text/plain": [
       "33"
      ]
     },
     "metadata": {},
     "execution_count": 359
    },
    {
     "output_type": "execute_result",
     "data": {
      "text/plain": [
       "32"
      ]
     },
     "metadata": {},
     "execution_count": 359
    },
    {
     "output_type": "execute_result",
     "data": {
      "text/plain": [
       "31"
      ]
     },
     "metadata": {},
     "execution_count": 359
    },
    {
     "output_type": "execute_result",
     "data": {
      "text/plain": [
       "30"
      ]
     },
     "metadata": {},
     "execution_count": 359
    },
    {
     "output_type": "execute_result",
     "data": {
      "text/plain": [
       "29"
      ]
     },
     "metadata": {},
     "execution_count": 359
    },
    {
     "output_type": "execute_result",
     "data": {
      "text/plain": [
       "28"
      ]
     },
     "metadata": {},
     "execution_count": 359
    },
    {
     "output_type": "stream",
     "name": "stdout",
     "text": [
      "Current size of S is: 28\n"
     ]
    }
   ],
   "source": [
    "S = myStack()\n",
    "\n",
    "for i in range(3):\n",
    "    S.pop()\n",
    "\n",
    "for i in range(35):\n",
    "    S.push(i)\n",
    "\n",
    "for i in range(15):\n",
    "    S.top()\n",
    "\n",
    "for i in range(7):\n",
    "    S.pop()\n",
    "\n",
    "print(\"Current size of S is: {}\".format(S.size()))"
   ]
  },
  {
   "source": [
    "I interpreted the \"empty errors\" as solely arising from the pop() operations, I took a similar approach to the equivalent question in Part 3.\n",
    "\n",
    "If there are 3 empty errors with pop(), we can run them first while the stack is empty. The stack's size remains at 0.\n",
    "Then, we can push the required 35 elements to the stack.\n",
    "Next, we can run the top() operations. Although they don't affect the number of elements in the stack, I am running them for the sake of demonstration.\n",
    "Finally, we can run the remaining 7 pop() operations.\n",
    "\n",
    "Therefore: 35 - 7 = 28 elements"
   ],
   "cell_type": "markdown",
   "metadata": {}
  },
  {
   "source": [
    "# Part 3"
   ],
   "cell_type": "markdown",
   "metadata": {}
  },
  {
   "source": [
    "## (i)"
   ],
   "cell_type": "markdown",
   "metadata": {}
  },
  {
   "source": [
    "### Implementing a Queue ADT"
   ],
   "cell_type": "markdown",
   "metadata": {}
  },
  {
   "cell_type": "code",
   "execution_count": 360,
   "metadata": {},
   "outputs": [],
   "source": [
    "class myQueue:\n",
    "    # Queue constructor\n",
    "    def __init__(self):\n",
    "        self.front = None\n",
    "        self.rear = None\n",
    "        self.length = 0\n",
    "\n",
    "    # Adds element to end of queue\n",
    "    def enqueue(self, value = None):\n",
    "        rearElement = Node(value)\n",
    "        if self.rear == None:\n",
    "            self.front = rearElement\n",
    "            self.rear = rearElement\n",
    "            self.length += 1\n",
    "            return\n",
    "        self.rear.next = rearElement\n",
    "        self.rear = rearElement\n",
    "        self.length += 1\n",
    "\n",
    "    # Removes element from start of queue and returns it\n",
    "    def dequeue(self):\n",
    "        if self.front == None:\n",
    "            print(\"Error: Queue is empty\")\n",
    "            return\n",
    "        frontElement = self.front\n",
    "        self.front = self.front.next\n",
    "        self.length -= 1\n",
    "        if self.front == None:\n",
    "            self. rear = None\n",
    "        return frontElement.value\n",
    "\n",
    "    # Returns size (length) of queue\n",
    "    def size(self):\n",
    "        return self.length\n",
    "\n",
    "    # Returns boolean whether queue is empty\n",
    "    def is_empty(self):\n",
    "        return self.length == 0\n",
    "\n",
    "    # Returns element at top of queue but doesn't remove it from the queue. Same functionality as \"peek\"\n",
    "    def top(self):\n",
    "        if self.front == None:\n",
    "            print(\"Error: Queue is empty\")\n",
    "            return\n",
    "        return self.front.value"
   ]
  },
  {
   "source": [
    "### Testing the queue with unit tests"
   ],
   "cell_type": "markdown",
   "metadata": {}
  },
  {
   "cell_type": "code",
   "execution_count": 361,
   "metadata": {},
   "outputs": [
    {
     "output_type": "stream",
     "name": "stderr",
     "text": [
      "test_add_LL (__main__.TestLinkedList) ... ok\n",
      "test_empty_LL (__main__.TestLinkedList) ... ok\n",
      "test_remove_LL (__main__.TestLinkedList) ... ok\n",
      "test_dequeue_Q (__main__.TestQueue) ... ok\n",
      "test_empty_Q (__main__.TestQueue) ... ok\n",
      "test_enqueue_Q (__main__.TestQueue) ... ok\n",
      "test_empty_S (__main__.TestStack) ... ok\n",
      "test_pop_S (__main__.TestStack) ... ok\n",
      "test_push_S (__main__.TestStack) ... ok\n",
      "\n",
      "----------------------------------------------------------------------\n",
      "Ran 9 tests in 0.007s\n",
      "\n",
      "OK\n"
     ]
    },
    {
     "output_type": "execute_result",
     "data": {
      "text/plain": [
       "<unittest.main.TestProgram at 0x2dd120bfb38>"
      ]
     },
     "metadata": {},
     "execution_count": 361
    }
   ],
   "source": [
    "class TestQueue(unittest.TestCase):\n",
    "    # Test adding elements to the queue\n",
    "    def test_enqueue_Q(self):\n",
    "        Q = myQueue()\n",
    "        Q.enqueue(1)\n",
    "        Q.enqueue(2)\n",
    "        Q.enqueue(3)\n",
    "        self.assertEqual(Q.size(), 3)\n",
    "    \n",
    "    # Test removing elements from the queue\n",
    "    def test_dequeue_Q(self):\n",
    "        Q = myQueue()\n",
    "        Q.enqueue(1)\n",
    "        Q.enqueue(2)\n",
    "        Q.enqueue(3)\n",
    "        Q.dequeue()\n",
    "        Q.dequeue()\n",
    "        self.assertEqual(Q.size(), 1)\n",
    "    \n",
    "    # Testing if queue can be emptied\n",
    "    def test_empty_Q(self):\n",
    "        Q = myQueue()\n",
    "        Q.enqueue(1)\n",
    "        Q.dequeue()\n",
    "        self.assertTrue(Q.is_empty())\n",
    "\n",
    "unittest.main(argv=[''], verbosity=2, exit=False)"
   ]
  },
  {
   "source": [
    "## (ii)"
   ],
   "cell_type": "markdown",
   "metadata": {}
  },
  {
   "cell_type": "code",
   "execution_count": 362,
   "metadata": {},
   "outputs": [
    {
     "output_type": "display_data",
     "data": {
      "text/plain": "None"
     },
     "metadata": {}
    },
    {
     "output_type": "display_data",
     "data": {
      "text/plain": "None"
     },
     "metadata": {}
    },
    {
     "output_type": "display_data",
     "data": {
      "text/plain": "5"
     },
     "metadata": {}
    },
    {
     "output_type": "display_data",
     "data": {
      "text/plain": "None"
     },
     "metadata": {}
    },
    {
     "output_type": "display_data",
     "data": {
      "text/plain": "None"
     },
     "metadata": {}
    },
    {
     "output_type": "display_data",
     "data": {
      "text/plain": "3"
     },
     "metadata": {}
    },
    {
     "output_type": "display_data",
     "data": {
      "text/plain": "2"
     },
     "metadata": {}
    },
    {
     "output_type": "display_data",
     "data": {
      "text/plain": "None"
     },
     "metadata": {}
    },
    {
     "output_type": "display_data",
     "data": {
      "text/plain": "None"
     },
     "metadata": {}
    },
    {
     "output_type": "display_data",
     "data": {
      "text/plain": "8"
     },
     "metadata": {}
    },
    {
     "output_type": "display_data",
     "data": {
      "text/plain": "None"
     },
     "metadata": {}
    },
    {
     "output_type": "display_data",
     "data": {
      "text/plain": "None"
     },
     "metadata": {}
    },
    {
     "output_type": "display_data",
     "data": {
      "text/plain": "9"
     },
     "metadata": {}
    },
    {
     "output_type": "display_data",
     "data": {
      "text/plain": "1"
     },
     "metadata": {}
    },
    {
     "output_type": "display_data",
     "data": {
      "text/plain": "None"
     },
     "metadata": {}
    },
    {
     "output_type": "display_data",
     "data": {
      "text/plain": "7"
     },
     "metadata": {}
    },
    {
     "output_type": "display_data",
     "data": {
      "text/plain": "6"
     },
     "metadata": {}
    }
   ],
   "source": [
    "Q = myQueue()\n",
    "\n",
    "display(\n",
    "Q.enqueue(5),\n",
    "Q.enqueue(3),\n",
    "Q.dequeue(),\n",
    "Q.enqueue(2),\n",
    "Q.enqueue(8),\n",
    "Q.dequeue(),\n",
    "Q.dequeue(),\n",
    "Q.enqueue(9),\n",
    "Q.enqueue(1),\n",
    "Q.dequeue(),\n",
    "Q.enqueue(7),\n",
    "Q.enqueue(6),\n",
    "Q.dequeue(),\n",
    "Q.dequeue(),\n",
    "Q.enqueue(4),\n",
    "Q.dequeue(),\n",
    "Q.dequeue()\n",
    ")"
   ]
  },
  {
   "source": [
    "## (iii)"
   ],
   "cell_type": "markdown",
   "metadata": {}
  },
  {
   "cell_type": "code",
   "execution_count": 363,
   "metadata": {},
   "outputs": [
    {
     "output_type": "stream",
     "name": "stdout",
     "text": [
      "Error: Queue is empty\nError: Queue is empty\nError: Queue is empty\nError: Queue is empty\nError: Queue is empty\n"
     ]
    },
    {
     "output_type": "execute_result",
     "data": {
      "text/plain": [
       "0"
      ]
     },
     "metadata": {},
     "execution_count": 363
    },
    {
     "output_type": "execute_result",
     "data": {
      "text/plain": [
       "0"
      ]
     },
     "metadata": {},
     "execution_count": 363
    },
    {
     "output_type": "execute_result",
     "data": {
      "text/plain": [
       "0"
      ]
     },
     "metadata": {},
     "execution_count": 363
    },
    {
     "output_type": "execute_result",
     "data": {
      "text/plain": [
       "0"
      ]
     },
     "metadata": {},
     "execution_count": 363
    },
    {
     "output_type": "execute_result",
     "data": {
      "text/plain": [
       "0"
      ]
     },
     "metadata": {},
     "execution_count": 363
    },
    {
     "output_type": "execute_result",
     "data": {
      "text/plain": [
       "0"
      ]
     },
     "metadata": {},
     "execution_count": 363
    },
    {
     "output_type": "execute_result",
     "data": {
      "text/plain": [
       "0"
      ]
     },
     "metadata": {},
     "execution_count": 363
    },
    {
     "output_type": "execute_result",
     "data": {
      "text/plain": [
       "0"
      ]
     },
     "metadata": {},
     "execution_count": 363
    },
    {
     "output_type": "execute_result",
     "data": {
      "text/plain": [
       "0"
      ]
     },
     "metadata": {},
     "execution_count": 363
    },
    {
     "output_type": "execute_result",
     "data": {
      "text/plain": [
       "0"
      ]
     },
     "metadata": {},
     "execution_count": 363
    },
    {
     "output_type": "execute_result",
     "data": {
      "text/plain": [
       "0"
      ]
     },
     "metadata": {},
     "execution_count": 363
    },
    {
     "output_type": "execute_result",
     "data": {
      "text/plain": [
       "0"
      ]
     },
     "metadata": {},
     "execution_count": 363
    },
    {
     "output_type": "execute_result",
     "data": {
      "text/plain": [
       "0"
      ]
     },
     "metadata": {},
     "execution_count": 363
    },
    {
     "output_type": "execute_result",
     "data": {
      "text/plain": [
       "0"
      ]
     },
     "metadata": {},
     "execution_count": 363
    },
    {
     "output_type": "execute_result",
     "data": {
      "text/plain": [
       "0"
      ]
     },
     "metadata": {},
     "execution_count": 363
    },
    {
     "output_type": "execute_result",
     "data": {
      "text/plain": [
       "0"
      ]
     },
     "metadata": {},
     "execution_count": 363
    },
    {
     "output_type": "execute_result",
     "data": {
      "text/plain": [
       "1"
      ]
     },
     "metadata": {},
     "execution_count": 363
    },
    {
     "output_type": "execute_result",
     "data": {
      "text/plain": [
       "2"
      ]
     },
     "metadata": {},
     "execution_count": 363
    },
    {
     "output_type": "execute_result",
     "data": {
      "text/plain": [
       "3"
      ]
     },
     "metadata": {},
     "execution_count": 363
    },
    {
     "output_type": "execute_result",
     "data": {
      "text/plain": [
       "4"
      ]
     },
     "metadata": {},
     "execution_count": 363
    },
    {
     "output_type": "execute_result",
     "data": {
      "text/plain": [
       "5"
      ]
     },
     "metadata": {},
     "execution_count": 363
    },
    {
     "output_type": "execute_result",
     "data": {
      "text/plain": [
       "6"
      ]
     },
     "metadata": {},
     "execution_count": 363
    },
    {
     "output_type": "execute_result",
     "data": {
      "text/plain": [
       "7"
      ]
     },
     "metadata": {},
     "execution_count": 363
    },
    {
     "output_type": "execute_result",
     "data": {
      "text/plain": [
       "8"
      ]
     },
     "metadata": {},
     "execution_count": 363
    },
    {
     "output_type": "execute_result",
     "data": {
      "text/plain": [
       "9"
      ]
     },
     "metadata": {},
     "execution_count": 363
    },
    {
     "output_type": "stream",
     "name": "stdout",
     "text": [
      "Current size of Q is: 40\n"
     ]
    }
   ],
   "source": [
    "Q = myQueue()\n",
    "\n",
    "for i in range(5):\n",
    "    Q.dequeue()\n",
    "\n",
    "for i in range(50):\n",
    "    Q.enqueue(i)\n",
    "\n",
    "for i in range(15):\n",
    "    Q.top()\n",
    "\n",
    "for i in range(10):\n",
    "    Q.dequeue()\n",
    "\n",
    "print(\"Current size of Q is: {}\".format(Q.size()))"
   ]
  },
  {
   "source": [
    "If there are 5 empty errors with dequeue(), we can run them first while the queue is empty. The queue's size remains at 0.\n",
    "Then, we can enqueue the required 50 elements to the queue.\n",
    "Next, we can run the top() operations. Although they don't affect the number of elements in the queue, I am running them for the sake of demonstration.\n",
    "Finally, we can run the remaining 10 dequeue() operations.\n",
    "\n",
    "Therefore: 50 - 10 = 40 elements"
   ],
   "cell_type": "markdown",
   "metadata": {}
  },
  {
   "source": [
    "# Conclusion\n",
    "\n",
    "I have demonstrated the functions, advantages, disadvantages, and applications of linked lists, stacks, and queues.\n",
    "I have also successfully developed classes, instances, and tests for each aforementioned ADT.\n",
    "Lastly, I have fulfilled each task required, and even the optional considerations listed in the handout."
   ],
   "cell_type": "markdown",
   "metadata": {}
  }
 ]
}